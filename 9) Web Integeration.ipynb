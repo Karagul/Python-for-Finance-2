{
 "cells": [
  {
   "cell_type": "code",
   "execution_count": 4,
   "metadata": {},
   "outputs": [],
   "source": [
    "import ftplib\n",
    "import numpy as np\n",
    "import pandas as pd\n",
    "import httplib\n",
    "import urllib\n",
    "import bokeh.plotting as bp\n",
    "import time\n",
    "import datetime as dt\n",
    "import requests\n",
    "from bokeh.objects import Glyph\n",
    "import os\n",
    "from sqlite3 import dbapi2 as sqlite3\n",
    "from flask import Flask, request, session, g, redirect, url_for, abort, \\\n",
    "render_template, flash\n",
    "from jinja2 import Template\n",
    "from IPython.display import HTML\n",
    "from scipy.stats import ncx2\n",
    "from werkzeug.wrappers import Request, Response"
   ]
  },
  {
   "cell_type": "code",
   "execution_count": 1,
   "metadata": {},
   "outputs": [],
   "source": [
    "import ftplib\n",
    "import numpy as np"
   ]
  },
  {
   "cell_type": "code",
   "execution_count": 11,
   "metadata": {},
   "outputs": [],
   "source": [
    "import urllib"
   ]
  },
  {
   "cell_type": "code",
   "execution_count": 14,
   "metadata": {},
   "outputs": [],
   "source": [
    "url = 'https://ichart.finance.yahoo.com/table.csv?g=d&ignore=.csv'\n",
    "url += '&s=YHOO&a=01&b=1&c=2014&d=02&e=6&f=2014'"
   ]
  },
  {
   "cell_type": "code",
   "execution_count": 20,
   "metadata": {},
   "outputs": [],
   "source": [
    "url = 'https://github.com/datasets/s-and-p-500-companies/blob/master/data/constituents.csv'"
   ]
  },
  {
   "cell_type": "code",
   "execution_count": 21,
   "metadata": {},
   "outputs": [],
   "source": [
    "connect = urllib.urlopen(url)"
   ]
  },
  {
   "cell_type": "code",
   "execution_count": 22,
   "metadata": {},
   "outputs": [],
   "source": [
    "data = connect.read()"
   ]
  },
  {
   "cell_type": "markdown",
   "metadata": {},
   "source": [
    "# Web Plotting\n",
    "## STATIC PLOTS"
   ]
  },
  {
   "cell_type": "code",
   "execution_count": 1,
   "metadata": {},
   "outputs": [],
   "source": [
    "import numpy as np\n",
    "import pandas as pd\n",
    "%matplotlib inline"
   ]
  },
  {
   "cell_type": "code",
   "execution_count": 2,
   "metadata": {},
   "outputs": [],
   "source": [
    "url = 'https://raw.githubusercontent.com/alperenguman/csv-stock-price-processor/master/examples/table.csv'\n",
    "data = pd.read_csv(url, parse_dates=['Date'])"
   ]
  },
  {
   "cell_type": "code",
   "execution_count": 3,
   "metadata": {},
   "outputs": [
    {
     "data": {
      "text/html": [
       "<div>\n",
       "<style scoped>\n",
       "    .dataframe tbody tr th:only-of-type {\n",
       "        vertical-align: middle;\n",
       "    }\n",
       "\n",
       "    .dataframe tbody tr th {\n",
       "        vertical-align: top;\n",
       "    }\n",
       "\n",
       "    .dataframe thead th {\n",
       "        text-align: right;\n",
       "    }\n",
       "</style>\n",
       "<table border=\"1\" class=\"dataframe\">\n",
       "  <thead>\n",
       "    <tr style=\"text-align: right;\">\n",
       "      <th></th>\n",
       "      <th>Date</th>\n",
       "      <th>Open</th>\n",
       "      <th>High</th>\n",
       "      <th>Low</th>\n",
       "      <th>Close</th>\n",
       "      <th>Volume</th>\n",
       "      <th>Adj Close</th>\n",
       "    </tr>\n",
       "  </thead>\n",
       "  <tbody>\n",
       "    <tr>\n",
       "      <th>0</th>\n",
       "      <td>2013-02-08</td>\n",
       "      <td>474.00</td>\n",
       "      <td>478.81</td>\n",
       "      <td>468.25</td>\n",
       "      <td>474.98</td>\n",
       "      <td>22597100</td>\n",
       "      <td>474.98</td>\n",
       "    </tr>\n",
       "    <tr>\n",
       "      <th>1</th>\n",
       "      <td>2013-02-07</td>\n",
       "      <td>463.25</td>\n",
       "      <td>470.00</td>\n",
       "      <td>454.12</td>\n",
       "      <td>468.22</td>\n",
       "      <td>25163600</td>\n",
       "      <td>468.22</td>\n",
       "    </tr>\n",
       "    <tr>\n",
       "      <th>2</th>\n",
       "      <td>2013-02-06</td>\n",
       "      <td>456.47</td>\n",
       "      <td>466.50</td>\n",
       "      <td>452.58</td>\n",
       "      <td>457.35</td>\n",
       "      <td>21203800</td>\n",
       "      <td>454.70</td>\n",
       "    </tr>\n",
       "    <tr>\n",
       "      <th>3</th>\n",
       "      <td>2013-02-05</td>\n",
       "      <td>444.05</td>\n",
       "      <td>459.74</td>\n",
       "      <td>442.22</td>\n",
       "      <td>457.84</td>\n",
       "      <td>20476700</td>\n",
       "      <td>455.19</td>\n",
       "    </tr>\n",
       "    <tr>\n",
       "      <th>4</th>\n",
       "      <td>2013-02-04</td>\n",
       "      <td>453.91</td>\n",
       "      <td>455.94</td>\n",
       "      <td>442.00</td>\n",
       "      <td>442.32</td>\n",
       "      <td>17039900</td>\n",
       "      <td>439.76</td>\n",
       "    </tr>\n",
       "  </tbody>\n",
       "</table>\n",
       "</div>"
      ],
      "text/plain": [
       "        Date    Open    High     Low   Close    Volume  Adj Close\n",
       "0 2013-02-08  474.00  478.81  468.25  474.98  22597100     474.98\n",
       "1 2013-02-07  463.25  470.00  454.12  468.22  25163600     468.22\n",
       "2 2013-02-06  456.47  466.50  452.58  457.35  21203800     454.70\n",
       "3 2013-02-05  444.05  459.74  442.22  457.84  20476700     455.19\n",
       "4 2013-02-04  453.91  455.94  442.00  442.32  17039900     439.76"
      ]
     },
     "execution_count": 3,
     "metadata": {},
     "output_type": "execute_result"
    }
   ],
   "source": [
    "data.head()"
   ]
  },
  {
   "cell_type": "code",
   "execution_count": 4,
   "metadata": {},
   "outputs": [
    {
     "data": {
      "text/plain": [
       "<matplotlib.axes._subplots.AxesSubplot at 0x8d91630>"
      ]
     },
     "execution_count": 4,
     "metadata": {},
     "output_type": "execute_result"
    },
    {
     "data": {
      "image/png": "[encoded data removed]",
      "text/plain": [
       "<Figure size 432x288 with 1 Axes>"
      ]
     },
     "metadata": {},
     "output_type": "display_data"
    }
   ],
   "source": [
    "data.plot(x='Date', y='Close')"
   ]
  }
 ],
 "metadata": {
  "kernelspec": {
   "display_name": "Python [conda env:py27]",
   "language": "python",
   "name": "conda-env-py27-py"
  },
  "language_info": {
   "codemirror_mode": {
    "name": "ipython",
    "version": 2
   },
   "file_extension": ".py",
   "mimetype": "text/x-python",
   "name": "python",
   "nbconvert_exporter": "python",
   "pygments_lexer": "ipython2",
   "version": "2.7.15"
  }
 },
 "nbformat": 4,
 "nbformat_minor": 2
}
