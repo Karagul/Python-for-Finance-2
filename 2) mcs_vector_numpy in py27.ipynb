{
 "cells": [
  {
   "cell_type": "markdown",
   "metadata": {},
   "source": [
    "### Monte Carlo valuation of European call option with NumPy"
   ]
  },
  {
   "cell_type": "code",
   "execution_count": 37,
   "metadata": {},
   "outputs": [
    {
     "name": "stdout",
     "output_type": "stream",
     "text": [
      "European Option Value   8.037\n",
      "Duration in Seconds     2.519\n"
     ]
    }
   ],
   "source": [
    "# mcs_vector_numpy.py\n",
    "import math\n",
    "import numpy as np\n",
    "from time import time\n",
    "\n",
    "np.random.seed(20000)\n",
    "t0 = time()\n",
    "\n",
    "# Parameters\n",
    "S0 = 100.; K = 105.; T = 1.0; r = 0.05; sigma = 0.2\n",
    "M = 50; dt = T / M; I = 250000\n",
    "\n",
    "# Simulating I paths with M time steps\n",
    "S = np.zeros((M + 1, I))\n",
    "S[0] = S0\n",
    "for t in range(1, M + 1):\n",
    "    z = np.random.standard_normal(I)  # pseudorandom numbers\n",
    "    S[t] = S[t - 1] * np.exp((r - 0.5 * sigma ** 2) * dt\n",
    "                                  + sigma * math.sqrt(dt) * z)\n",
    "      # vectorized operation per time step over all paths\n",
    "\n",
    "# Calculating the Monte Carlo estimator\n",
    "C0 = math.exp(-r * T) * np.sum(np.maximum(S[-1] - K, 0)) / I\n",
    "\n",
    "# Results output\n",
    "tnp1 = time() - t0\n",
    "print \"European Option Value %7.3f\" % C0\n",
    "print \"Duration in Seconds   %7.3f\" % tnp1"
   ]
  },
  {
   "cell_type": "code",
   "execution_count": 39,
   "metadata": {},
   "outputs": [
    {
     "name": "stdout",
     "output_type": "stream",
     "text": [
      "European Option Value   8.037\n",
      "Duration in Seconds     2.208\n"
     ]
    }
   ],
   "source": [
    "%run mcs_vector_numpy.py"
   ]
  }
 ],
 "metadata": {
  "kernelspec": {
   "display_name": "Python [conda env:py27]",
   "language": "python",
   "name": "conda-env-py27-py"
  },
  "language_info": {
   "codemirror_mode": {
    "name": "ipython",
    "version": 2
   },
   "file_extension": ".py",
   "mimetype": "text/x-python",
   "name": "python",
   "nbconvert_exporter": "python",
   "pygments_lexer": "ipython2",
   "version": "2.7.15"
  }
 },
 "nbformat": 4,
 "nbformat_minor": 2
}
